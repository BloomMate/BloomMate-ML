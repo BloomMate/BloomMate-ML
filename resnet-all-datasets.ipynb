{
 "cells": [
  {
   "cell_type": "markdown",
   "metadata": {},
   "source": [
    "## Hanyang University Software Engineering - BloomMate Deep Learning Project\n",
    "- Image Classification using RestNet50\n",
    "- Custom Dataset\n",
    "- Convert into tensorflowLite"
   ]
  },
  {
   "cell_type": "markdown",
   "metadata": {},
   "source": [
    "### ① Project Setup\n",
    "- import libraries\n",
    "- load datasets (train, validation)\n",
    "- Pre-processing the image dataset"
   ]
  },
  {
   "cell_type": "code",
   "execution_count": 2,
   "metadata": {},
   "outputs": [],
   "source": [
    "# https://medium.com/@bravinwasike18/building-a-deep-learning-model-with-keras-and-resnet-50-9dd6f4eb3351\n",
    "import tensorflow as tf\n",
    "import numpy as np\n",
    "\n",
    "from keras.applications.resnet50 import ResNet50\n",
    "\n",
    "from keras.layers import Dense, Flatten\n",
    "from keras.models import Sequential\n",
    "\n",
    "import pathlib\n",
    "\n",
    "# 로컬 데이터 경로 설정\n",
    "data_dir = pathlib.Path(\"./dataset/\")\n",
    "\n",
    "height,width=180,180\n",
    "training_batch_size=32"
   ]
  },
  {
   "cell_type": "code",
   "execution_count": 3,
   "metadata": {},
   "outputs": [
    {
     "name": "stdout",
     "output_type": "stream",
     "text": [
      "Found 14001 files belonging to 14 classes.\n",
      "Using 11201 files for training.\n",
      "Found 14001 files belonging to 14 classes.\n",
      "Using 2800 files for validation.\n",
      "['Corn___Common_rust', 'Corn___Gray_leaf_spot', 'Corn___Northern_Leaf_Blight', 'Corn___healthy', 'Potato___Early_blight', 'Potato___Late_blight', 'Potato___healthy', 'Strawberry___Leaf_scorch', 'Strawberry___healthy', 'Tomato___Early_blight', 'Tomato___Late_blight', 'Tomato___Target_Spot', 'Tomato___Tomato_Yellow_Leaf_Curl_Virus', 'Tomato___healthy']\n"
     ]
    }
   ],
   "source": [
    "train_ds = tf.keras.preprocessing.image_dataset_from_directory(\n",
    "    data_dir,\n",
    "    validation_split=0.2,\n",
    "    subset=\"training\",\n",
    "    label_mode='categorical',\n",
    "    labels=\"inferred\",\n",
    "    seed=123,\n",
    "    image_size=(height,width),\n",
    "    batch_size=training_batch_size\n",
    ")\n",
    "\n",
    "validation_ds = tf.keras.preprocessing.image_dataset_from_directory(\n",
    "    data_dir,\n",
    "    validation_split=0.2,\n",
    "    subset=\"validation\",\n",
    "    label_mode='categorical',\n",
    "    labels=\"inferred\",\n",
    "    seed=123,\n",
    "    image_size=(height,width),\n",
    "    batch_size=training_batch_size\n",
    ")\n",
    "\n",
    "class_names = train_ds.class_names\n",
    "print(class_names)"
   ]
  },
  {
   "cell_type": "markdown",
   "metadata": {},
   "source": [
    "### ② Building the deep learning model\n",
    "- Fine-tuning the imported pre-trained ResNet-50 network\n",
    "- Compiling the deep learning model\n",
    "- Visualize training results"
   ]
  },
  {
   "cell_type": "code",
   "execution_count": 4,
   "metadata": {},
   "outputs": [],
   "source": [
    "dnn_model = Sequential()\n",
    "\n",
    "model= ResNet50(\n",
    "    include_top=False,\n",
    "    input_shape=(180,180,3),\n",
    "    pooling='avg',\n",
    "    classes=14,\n",
    "    weights='imagenet')\n",
    "\n",
    "for layer in model.layers:\n",
    "    layer.trainable=False"
   ]
  },
  {
   "cell_type": "code",
   "execution_count": 5,
   "metadata": {},
   "outputs": [],
   "source": [
    "dnn_model.add(model)\n",
    "dnn_model.add(Flatten())\n",
    "dnn_model.add(Dense(512, activation='relu'))\n",
    "dnn_model.add(Dense(14, activation='softmax'))"
   ]
  },
  {
   "cell_type": "code",
   "execution_count": 6,
   "metadata": {},
   "outputs": [
    {
     "name": "stdout",
     "output_type": "stream",
     "text": [
      "Model: \"sequential\"\n",
      "_________________________________________________________________\n",
      " Layer (type)                Output Shape              Param #   \n",
      "=================================================================\n",
      " resnet50 (Functional)       (None, 2048)              23587712  \n",
      "                                                                 \n",
      " flatten (Flatten)           (None, 2048)              0         \n",
      "                                                                 \n",
      " dense (Dense)               (None, 512)               1049088   \n",
      "                                                                 \n",
      " dense_1 (Dense)             (None, 14)                7182      \n",
      "                                                                 \n",
      "=================================================================\n",
      "Total params: 24643982 (94.01 MB)\n",
      "Trainable params: 1056270 (4.03 MB)\n",
      "Non-trainable params: 23587712 (89.98 MB)\n",
      "_________________________________________________________________\n"
     ]
    }
   ],
   "source": [
    "dnn_model.summary()"
   ]
  },
  {
   "cell_type": "code",
   "execution_count": 7,
   "metadata": {},
   "outputs": [],
   "source": [
    "dnn_model.compile(\n",
    "    optimizer=\"adam\",\n",
    "    loss='categorical_crossentropy',\n",
    "    metrics=['accuracy'])"
   ]
  },
  {
   "cell_type": "code",
   "execution_count": 8,
   "metadata": {},
   "outputs": [
    {
     "name": "stdout",
     "output_type": "stream",
     "text": [
      "Epoch 1/10\n",
      "351/351 [==============================] - 231s 654ms/step - loss: 0.3410 - accuracy: 0.8896 - val_loss: 0.2252 - val_accuracy: 0.9114\n",
      "Epoch 2/10\n",
      "351/351 [==============================] - 222s 632ms/step - loss: 0.1287 - accuracy: 0.9536 - val_loss: 0.1406 - val_accuracy: 0.9461\n",
      "Epoch 3/10\n",
      "351/351 [==============================] - 225s 640ms/step - loss: 0.0835 - accuracy: 0.9694 - val_loss: 0.0974 - val_accuracy: 0.9675\n",
      "Epoch 4/10\n",
      "351/351 [==============================] - 326s 929ms/step - loss: 0.0677 - accuracy: 0.9762 - val_loss: 0.3946 - val_accuracy: 0.8979\n",
      "Epoch 5/10\n",
      "351/351 [==============================] - 224s 639ms/step - loss: 0.0529 - accuracy: 0.9818 - val_loss: 0.1097 - val_accuracy: 0.9632\n",
      "Epoch 6/10\n",
      "351/351 [==============================] - 225s 642ms/step - loss: 0.0404 - accuracy: 0.9855 - val_loss: 0.1439 - val_accuracy: 0.9546\n",
      "Epoch 7/10\n",
      "351/351 [==============================] - 728s 2s/step - loss: 0.0405 - accuracy: 0.9845 - val_loss: 0.1244 - val_accuracy: 0.9607\n",
      "Epoch 8/10\n",
      "351/351 [==============================] - 226s 643ms/step - loss: 0.0457 - accuracy: 0.9838 - val_loss: 0.1408 - val_accuracy: 0.9571\n",
      "Epoch 9/10\n",
      "351/351 [==============================] - 226s 643ms/step - loss: 0.0349 - accuracy: 0.9878 - val_loss: 0.1263 - val_accuracy: 0.9618\n",
      "Epoch 10/10\n",
      "351/351 [==============================] - 232s 660ms/step - loss: 0.0393 - accuracy: 0.9871 - val_loss: 0.1916 - val_accuracy: 0.9493\n"
     ]
    }
   ],
   "source": [
    "epochs=10\n",
    "history = dnn_model.fit(\n",
    "    train_ds, \n",
    "    validation_data=validation_ds, \n",
    "    epochs=epochs\n",
    ")"
   ]
  },
  {
   "cell_type": "code",
   "execution_count": 9,
   "metadata": {},
   "outputs": [
    {
     "data": {
      "image/png": "[encoded data removed]",
      "text/plain": [
       "<Figure size 800x800 with 2 Axes>"
      ]
     },
     "metadata": {},
     "output_type": "display_data"
    }
   ],
   "source": [
    "import matplotlib.pyplot as plt\n",
    "\n",
    "acc = history.history['accuracy']\n",
    "val_acc = history.history['val_accuracy']\n",
    "\n",
    "loss = history.history['loss']\n",
    "val_loss = history.history['val_loss']\n",
    "\n",
    "epochs_range = range(epochs)\n",
    "\n",
    "plt.figure(figsize=(8, 8))\n",
    "plt.subplot(1, 2, 1)\n",
    "plt.plot(epochs_range, acc, label='Training Accuracy')\n",
    "plt.plot(epochs_range, val_acc, label='Validation Accuracy')\n",
    "plt.legend(loc='lower right')\n",
    "plt.title('Training and Validation Accuracy')\n",
    "\n",
    "plt.subplot(1, 2, 2)\n",
    "plt.plot(epochs_range, loss, label='Training Loss')\n",
    "plt.plot(epochs_range, val_loss, label='Validation Loss')\n",
    "plt.legend(loc='upper right')\n",
    "plt.title('Training and Validation Loss')\n",
    "plt.show()"
   ]
  },
  {
   "cell_type": "markdown",
   "metadata": {},
   "source": [
    "#### ④ Predict on new data\n",
    "- use test cases"
   ]
  },
  {
   "cell_type": "code",
   "execution_count": 14,
   "metadata": {},
   "outputs": [],
   "source": [
    "from keras.preprocessing import image\n",
    "# 로컬 이미지 경로 설정\n",
    "local_image_path = \"./test-case/healthy_corn.jpeg\"\n",
    "\n",
    "# 이미지 불러오기\n",
    "img = image.load_img(local_image_path, target_size=(height, width))\n",
    "img_array = image.img_to_array(img)\n",
    "img_array = np.expand_dims(img_array, axis=0)  # 배치 차원 추가"
   ]
  },
  {
   "cell_type": "code",
   "execution_count": 15,
   "metadata": {},
   "outputs": [
    {
     "name": "stdout",
     "output_type": "stream",
     "text": [
      "1/1 [==============================] - 0s 93ms/step\n",
      "This image most likely belongs to Corn___healthy with a 100.00 percent confidence.\n"
     ]
    }
   ],
   "source": [
    "# 모델 예측\n",
    "predictions = dnn_model.predict(img_array)\n",
    "\n",
    "\n",
    "# 클래스 이름과 신뢰도 출력\n",
    "print(\n",
    "    \"This image most likely belongs to {} with a {:.2f} percent confidence.\"\n",
    "    .format(class_names[np.argmax(predictions)], 100 * np.max(predictions))\n",
    ")"
   ]
  },
  {
   "cell_type": "markdown",
   "metadata": {},
   "source": [
    "### ⑤ Convert into tensorflow light\n",
    "- convert the model\n",
    "- Run the TensorFlow Lite model\n",
    "- Compare the result between the original model"
   ]
  },
  {
   "cell_type": "code",
   "execution_count": 16,
   "metadata": {},
   "outputs": [
    {
     "name": "stdout",
     "output_type": "stream",
     "text": [
      "INFO:tensorflow:Assets written to: /var/folders/05/f27xdntx0w1d15nqqws7822w0000gn/T/tmpm2pn6avg/assets\n"
     ]
    },
    {
     "name": "stderr",
     "output_type": "stream",
     "text": [
      "INFO:tensorflow:Assets written to: /var/folders/05/f27xdntx0w1d15nqqws7822w0000gn/T/tmpm2pn6avg/assets\n",
      "2023-11-26 12:30:42.015589: W tensorflow/compiler/mlir/lite/python/tf_tfl_flatbuffer_helpers.cc:378] Ignored output_format.\n",
      "2023-11-26 12:30:42.015617: W tensorflow/compiler/mlir/lite/python/tf_tfl_flatbuffer_helpers.cc:381] Ignored drop_control_dependency.\n",
      "2023-11-26 12:30:42.015995: I tensorflow/cc/saved_model/reader.cc:83] Reading SavedModel from: /var/folders/05/f27xdntx0w1d15nqqws7822w0000gn/T/tmpm2pn6avg\n",
      "2023-11-26 12:30:42.029990: I tensorflow/cc/saved_model/reader.cc:51] Reading meta graph with tags { serve }\n",
      "2023-11-26 12:30:42.030015: I tensorflow/cc/saved_model/reader.cc:146] Reading SavedModel debug info (if present) from: /var/folders/05/f27xdntx0w1d15nqqws7822w0000gn/T/tmpm2pn6avg\n",
      "2023-11-26 12:30:42.056598: I tensorflow/compiler/mlir/mlir_graph_optimization_pass.cc:382] MLIR V1 optimization pass is not enabled\n",
      "2023-11-26 12:30:42.074480: I tensorflow/cc/saved_model/loader.cc:233] Restoring SavedModel bundle.\n",
      "2023-11-26 12:30:42.564079: I tensorflow/cc/saved_model/loader.cc:217] Running initialization op on SavedModel bundle at path: /var/folders/05/f27xdntx0w1d15nqqws7822w0000gn/T/tmpm2pn6avg\n",
      "2023-11-26 12:30:42.704101: I tensorflow/cc/saved_model/loader.cc:316] SavedModel load for tags { serve }; Status: success: OK. Took 688105 microseconds.\n",
      "2023-11-26 12:30:42.846671: I tensorflow/compiler/mlir/tensorflow/utils/dump_mlir_util.cc:269] disabling MLIR crash reproducer, set env var `MLIR_CRASH_REPRODUCER_DIRECTORY` to enable.\n"
     ]
    },
    {
     "name": "stdout",
     "output_type": "stream",
     "text": [
      "INFO:tensorflow:Assets written to: /var/folders/05/f27xdntx0w1d15nqqws7822w0000gn/T/tmphgw8bnrd/assets\n"
     ]
    },
    {
     "name": "stderr",
     "output_type": "stream",
     "text": [
      "INFO:tensorflow:Assets written to: /var/folders/05/f27xdntx0w1d15nqqws7822w0000gn/T/tmphgw8bnrd/assets\n",
      "2023-11-26 12:31:20.856769: W tensorflow/compiler/mlir/lite/python/tf_tfl_flatbuffer_helpers.cc:378] Ignored output_format.\n",
      "2023-11-26 12:31:20.856782: W tensorflow/compiler/mlir/lite/python/tf_tfl_flatbuffer_helpers.cc:381] Ignored drop_control_dependency.\n",
      "2023-11-26 12:31:20.856919: I tensorflow/cc/saved_model/reader.cc:83] Reading SavedModel from: /var/folders/05/f27xdntx0w1d15nqqws7822w0000gn/T/tmphgw8bnrd\n",
      "2023-11-26 12:31:20.870662: I tensorflow/cc/saved_model/reader.cc:51] Reading meta graph with tags { serve }\n",
      "2023-11-26 12:31:20.870673: I tensorflow/cc/saved_model/reader.cc:146] Reading SavedModel debug info (if present) from: /var/folders/05/f27xdntx0w1d15nqqws7822w0000gn/T/tmphgw8bnrd\n",
      "2023-11-26 12:31:20.915530: I tensorflow/cc/saved_model/loader.cc:233] Restoring SavedModel bundle.\n",
      "2023-11-26 12:31:21.379038: I tensorflow/cc/saved_model/loader.cc:217] Running initialization op on SavedModel bundle at path: /var/folders/05/f27xdntx0w1d15nqqws7822w0000gn/T/tmphgw8bnrd\n",
      "2023-11-26 12:31:21.516271: I tensorflow/cc/saved_model/loader.cc:316] SavedModel load for tags { serve }; Status: success: OK. Took 659351 microseconds.\n"
     ]
    }
   ],
   "source": [
    "# Convert the model.\n",
    "converter = tf.lite.TFLiteConverter.from_keras_model(dnn_model)\n",
    "tflite_model = converter.convert()\n",
    "\n",
    "converter.optimizations = [tf.lite.Optimize.DEFAULT]\n",
    "tflite_quantized_model = converter.convert()\n",
    "\n",
    "# Save the model.\n",
    "with open('model.tflite', 'wb') as f:\n",
    "  f.write(tflite_model)"
   ]
  },
  {
   "cell_type": "code",
   "execution_count": 20,
   "metadata": {},
   "outputs": [
    {
     "name": "stdout",
     "output_type": "stream",
     "text": [
      "[[2.58835848e-06 1.18030536e-08 6.68301858e-09 1.39914721e-06\n",
      "  1.26841182e-09 8.49117027e-11 8.45255954e-09 2.94766678e-09\n",
      "  9.28685381e-07 7.07870349e-05 9.99921799e-01 2.14177021e-06\n",
      "  2.57701970e-07 1.00039905e-07]]\n"
     ]
    }
   ],
   "source": [
    "import cv2\n",
    "\n",
    "\n",
    "PATH_TO_MODEL = './model.tflite'\n",
    "\n",
    "interpreter = tf.lite.Interpreter(model_path=PATH_TO_MODEL)\n",
    "interpreter.allocate_tensors()\n",
    "\n",
    "# Get input and output tensors.\n",
    "input_details = interpreter.get_input_details()\n",
    "output_details = interpreter.get_output_details()\n",
    "\n",
    "# Test the model on random input data.\n",
    "input_shape = input_details[0]['shape']\n",
    "input_data = np.array(np.random.random_sample(input_shape), dtype=np.float32)\n",
    "interpreter.set_tensor(input_details[0]['index'], input_data)\n",
    "\n",
    "interpreter.invoke()\n",
    "\n",
    "# The function `get_tensor()` returns a copy of the tensor data.\n",
    "# Use `tensor()` in order to get a pointer to the tensor.\n",
    "output_data = interpreter.get_tensor(output_details[0]['index'])\n",
    "print(output_data)"
   ]
  },
  {
   "cell_type": "code",
   "execution_count": 21,
   "metadata": {},
   "outputs": [
    {
     "data": {
      "text/plain": [
       "{'serving_default': {'inputs': ['resnet50_input'], 'outputs': ['dense_1']}}"
      ]
     },
     "execution_count": 21,
     "metadata": {},
     "output_type": "execute_result"
    }
   ],
   "source": [
    "interpreter.get_signature_list()"
   ]
  },
  {
   "cell_type": "code",
   "execution_count": 22,
   "metadata": {},
   "outputs": [
    {
     "name": "stdout",
     "output_type": "stream",
     "text": [
      "This image most likely belongs to Corn___healthy with a 100.00 percent confidence.\n"
     ]
    }
   ],
   "source": [
    "classify_lite = interpreter.get_signature_runner('serving_default')\n",
    "classify_lite\n",
    "\n",
    "predictions_lite = classify_lite(resnet50_input = img_array)['dense_1']\n",
    "score_lite = tf.nn.softmax(predictions_lite)\n",
    "\n",
    "# 클래스 이름과 신뢰도 출력\n",
    "print(\n",
    "    \"This image most likely belongs to {} with a {:.2f} percent confidence.\"\n",
    "    .format(class_names[np.argmax(predictions_lite)], 100 * np.max(predictions_lite))\n",
    ")\n",
    "\n",
    "# print(np.max(np.abs(predictions - predictions_lite)))"
   ]
  },
  {
   "cell_type": "markdown",
   "metadata": {},
   "source": []
  }
 ],
 "metadata": {
  "kernelspec": {
   "display_name": "Python 3",
   "language": "python",
   "name": "python3"
  },
  "language_info": {
   "codemirror_mode": {
    "name": "ipython",
    "version": 3
   },
   "file_extension": ".py",
   "mimetype": "text/x-python",
   "name": "python",
   "nbconvert_exporter": "python",
   "pygments_lexer": "ipython3",
   "version": "3.9.6"
  }
 },
 "nbformat": 4,
 "nbformat_minor": 2
}
