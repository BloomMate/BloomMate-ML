{
 "cells": [
  {
   "cell_type": "markdown",
   "metadata": {},
   "source": [
    "### This Code is for Backend Developer\n",
    "- Extract only code that uses tensorflow lite from ‘./resnet-all-datasets.ipynb’\n",
    "- Modified the code so that images downloaded from an external URL can be used.\n",
    "- The final code ported to the backend can be found at this [link](https://github.com/BloomMate/BloomMate-BE/blob/main/plants/utils.py#L45)"
   ]
  },
  {
   "cell_type": "code",
   "execution_count": 2,
   "metadata": {},
   "outputs": [],
   "source": [
    "import tensorflow as tf\n",
    "import numpy as np\n",
    "\n",
    "height,width=180,180"
   ]
  },
  {
   "cell_type": "code",
   "execution_count": 3,
   "metadata": {},
   "outputs": [],
   "source": [
    "class_names = [ 'Corn___Common_rust', \n",
    "                'Corn___Gray_leaf_spot', \n",
    "                'Corn___Northern_Leaf_Blight', \n",
    "                'Corn___healthy', \n",
    "                'Potato___Early_blight', \n",
    "                'Potato___Late_blight', \n",
    "                'Potato___healthy', \n",
    "                'Strawberry___Leaf_scorch', \n",
    "                'Strawberry___healthy', \n",
    "                'Tomato___Early_blight', \n",
    "                'Tomato___Late_blight',\n",
    "                'Tomato___Target_Spot', \n",
    "                'Tomato___Tomato_Yellow_Leaf_Curl_Virus', \n",
    "                 'Tomato___healthy']"
   ]
  },
  {
   "cell_type": "code",
   "execution_count": 29,
   "metadata": {},
   "outputs": [
    {
     "name": "stderr",
     "output_type": "stream",
     "text": [
      "  % Total    % Received % Xferd  Average Speed   Time    Time     Time  Current\n",
      "                                 Dload  Upload   Total   Spent    Left  Speed\n",
      "100  245k  100  245k    0     0  1141k      0 --:--:-- --:--:-- --:--:-- 1168k\n"
     ]
    }
   ],
   "source": [
    "import os\n",
    "from keras.preprocessing import image\n",
    "from PIL import Image\n",
    "# 로컬 이미지 경로 설정\n",
    "url = \"https://res.cloudinary.com/dolc0qkxk/image/upload/v1699615628/KakaoTalk_20231110_202630870_sr98tx.png\"\n",
    "\n",
    "os.system(\"curl \" + url + \" > test2.jpg\")\n",
    "\n",
    "# 이미지 불러오기\n",
    "local_image_path = \"./test2.jpg\"\n",
    "\n",
    "# 이미지 불러오기\n",
    "img = image.load_img(local_image_path, target_size=(height, width))\n",
    "img_array = image.img_to_array(img)\n",
    "img_array = np.expand_dims(img_array, axis=0)  # 배치 차원 추가"
   ]
  },
  {
   "cell_type": "code",
   "execution_count": 30,
   "metadata": {},
   "outputs": [
    {
     "name": "stdout",
     "output_type": "stream",
     "text": [
      "[[4.3900849e-07 6.1759566e-09 2.6285302e-10 9.8482235e-07 2.4985874e-10\n",
      "  3.0427866e-10 1.1133936e-09 4.4969410e-09 2.0610912e-07 6.3493439e-06\n",
      "  9.9999154e-01 1.8944957e-07 1.4728759e-07 9.2554188e-08]]\n"
     ]
    }
   ],
   "source": [
    "PATH_TO_MODEL = './tensorflow-lite-models/model-231025 (resnet).tflite'\n",
    "\n",
    "interpreter = tf.lite.Interpreter(model_path=PATH_TO_MODEL)\n",
    "interpreter.allocate_tensors()\n",
    "\n",
    "# Get input and output tensors.\n",
    "input_details = interpreter.get_input_details()\n",
    "output_details = interpreter.get_output_details()\n",
    "\n",
    "# Test the model on random input data.\n",
    "input_shape = input_details[0]['shape']\n",
    "input_data = np.array(np.random.random_sample(input_shape), dtype=np.float32)\n",
    "interpreter.set_tensor(input_details[0]['index'], input_data)\n",
    "\n",
    "interpreter.invoke()\n",
    "\n",
    "# The function `get_tensor()` returns a copy of the tensor data.\n",
    "# Use `tensor()` in order to get a pointer to the tensor.\n",
    "output_data = interpreter.get_tensor(output_details[0]['index'])\n",
    "print(output_data)"
   ]
  },
  {
   "cell_type": "code",
   "execution_count": 31,
   "metadata": {},
   "outputs": [
    {
     "data": {
      "text/plain": [
       "{'serving_default': {'inputs': ['resnet50_input'], 'outputs': ['dense_1']}}"
      ]
     },
     "execution_count": 31,
     "metadata": {},
     "output_type": "execute_result"
    }
   ],
   "source": [
    "interpreter.get_signature_list()"
   ]
  },
  {
   "cell_type": "code",
   "execution_count": 32,
   "metadata": {},
   "outputs": [
    {
     "name": "stdout",
     "output_type": "stream",
     "text": [
      "This image most likely belongs to Strawberry___healthy with a 99.30 percent confidence.\n"
     ]
    }
   ],
   "source": [
    "classify_lite = interpreter.get_signature_runner('serving_default')\n",
    "classify_lite\n",
    "\n",
    "predictions_lite = classify_lite(resnet50_input = img_array)['dense_1']\n",
    "score_lite = tf.nn.softmax(predictions_lite)\n",
    "\n",
    "# 클래스 이름과 신뢰도 출력\n",
    "print(\n",
    "    \"This image most likely belongs to {} with a {:.2f} percent confidence.\"\n",
    "    .format(class_names[np.argmax(predictions_lite)], 100 * np.max(predictions_lite))\n",
    ")"
   ]
  }
 ],
 "metadata": {
  "kernelspec": {
   "display_name": "Python 3",
   "language": "python",
   "name": "python3"
  },
  "language_info": {
   "codemirror_mode": {
    "name": "ipython",
    "version": 3
   },
   "file_extension": ".py",
   "mimetype": "text/x-python",
   "name": "python",
   "nbconvert_exporter": "python",
   "pygments_lexer": "ipython3",
   "version": "3.9.6"
  }
 },
 "nbformat": 4,
 "nbformat_minor": 2
}
