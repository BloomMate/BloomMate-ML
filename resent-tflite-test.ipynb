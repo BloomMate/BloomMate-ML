{
 "cells": [
  {
   "cell_type": "code",
   "execution_count": 3,
   "metadata": {},
   "outputs": [],
   "source": [
    "import tensorflow as tf\n",
    "import numpy as np\n",
    "\n",
    "height,width=180,180"
   ]
  },
  {
   "cell_type": "code",
   "execution_count": 4,
   "metadata": {},
   "outputs": [],
   "source": [
    "class_names = [ 'Corn___Common_rust', \n",
    "                'Corn___Gray_leaf_spot', \n",
    "                'Corn___Northern_Leaf_Blight', \n",
    "                'Corn___healthy', \n",
    "                'Potato___Early_blight', \n",
    "                'Potato___Late_blight', \n",
    "                'Potato___healthy', \n",
    "                'Strawberry___Leaf_scorch', \n",
    "                'Strawberry___healthy', \n",
    "                'Tomato___Early_blight', \n",
    "                'Tomato___Late_blight',\n",
    "                'Tomato___Target_Spot', \n",
    "                'Tomato___Tomato_Yellow_Leaf_Curl_Virus', \n",
    "                 'Tomato___healthy']"
   ]
  },
  {
   "cell_type": "code",
   "execution_count": 5,
   "metadata": {},
   "outputs": [],
   "source": [
    "from keras.preprocessing import image\n",
    "# 로컬 이미지 경로 설정\n",
    "local_image_path = \"./test-case/healthy_strawberry.jpg\"\n",
    "\n",
    "# 이미지 불러오기\n",
    "img = image.load_img(local_image_path, target_size=(height, width))\n",
    "img_array = image.img_to_array(img)\n",
    "img_array = np.expand_dims(img_array, axis=0)  # 배치 차원 추가"
   ]
  },
  {
   "cell_type": "code",
   "execution_count": 6,
   "metadata": {},
   "outputs": [
    {
     "name": "stdout",
     "output_type": "stream",
     "text": [
      "[[4.2313206e-07 5.5478484e-09 2.6668298e-10 9.2318624e-07 2.5046290e-10\n",
      "  3.1400529e-10 1.0016653e-09 4.4239905e-09 1.8012155e-07 6.1336541e-06\n",
      "  9.9999189e-01 1.7800609e-07 1.3943611e-07 8.6042910e-08]]\n"
     ]
    },
    {
     "name": "stderr",
     "output_type": "stream",
     "text": [
      "INFO: Created TensorFlow Lite XNNPACK delegate for CPU.\n"
     ]
    }
   ],
   "source": [
    "import cv2\n",
    "\n",
    "\n",
    "PATH_TO_MODEL = './tensorlfow-lite-models/model-231025 (resnet).tflite'\n",
    "\n",
    "interpreter = tf.lite.Interpreter(model_path=PATH_TO_MODEL)\n",
    "interpreter.allocate_tensors()\n",
    "\n",
    "# Get input and output tensors.\n",
    "input_details = interpreter.get_input_details()\n",
    "output_details = interpreter.get_output_details()\n",
    "\n",
    "# Test the model on random input data.\n",
    "input_shape = input_details[0]['shape']\n",
    "input_data = np.array(np.random.random_sample(input_shape), dtype=np.float32)\n",
    "interpreter.set_tensor(input_details[0]['index'], input_data)\n",
    "\n",
    "interpreter.invoke()\n",
    "\n",
    "# The function `get_tensor()` returns a copy of the tensor data.\n",
    "# Use `tensor()` in order to get a pointer to the tensor.\n",
    "output_data = interpreter.get_tensor(output_details[0]['index'])\n",
    "print(output_data)"
   ]
  },
  {
   "cell_type": "code",
   "execution_count": null,
   "metadata": {},
   "outputs": [],
   "source": [
    "interpreter.get_signature_list()"
   ]
  },
  {
   "cell_type": "code",
   "execution_count": 7,
   "metadata": {},
   "outputs": [
    {
     "name": "stdout",
     "output_type": "stream",
     "text": [
      "This image most likely belongs to Strawberry___healthy with a 99.30 percent confidence.\n"
     ]
    }
   ],
   "source": [
    "classify_lite = interpreter.get_signature_runner('serving_default')\n",
    "classify_lite\n",
    "\n",
    "predictions_lite = classify_lite(resnet50_input = img_array)['dense_1']\n",
    "score_lite = tf.nn.softmax(predictions_lite)\n",
    "\n",
    "# 클래스 이름과 신뢰도 출력\n",
    "print(\n",
    "    \"This image most likely belongs to {} with a {:.2f} percent confidence.\"\n",
    "    .format(class_names[np.argmax(predictions_lite)], 100 * np.max(predictions_lite))\n",
    ")"
   ]
  }
 ],
 "metadata": {
  "kernelspec": {
   "display_name": "Python 3",
   "language": "python",
   "name": "python3"
  },
  "language_info": {
   "codemirror_mode": {
    "name": "ipython",
    "version": 3
   },
   "file_extension": ".py",
   "mimetype": "text/x-python",
   "name": "python",
   "nbconvert_exporter": "python",
   "pygments_lexer": "ipython3",
   "version": "3.9.6"
  }
 },
 "nbformat": 4,
 "nbformat_minor": 2
}
